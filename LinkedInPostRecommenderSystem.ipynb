{
  "nbformat": 4,
  "nbformat_minor": 0,
  "metadata": {
    "colab": {
      "provenance": [],
      "authorship_tag": "ABX9TyN29M968z9ILeV7MPxAz+Me"
    },
    "kernelspec": {
      "name": "python3",
      "display_name": "Python 3"
    },
    "language_info": {
      "name": "python"
    }
  },
  "cells": [
    {
      "cell_type": "code",
      "execution_count": null,
      "metadata": {
        "id": "2WqxBxFODkMh"
      },
      "outputs": [],
      "source": [
        "import tensorflow as tf\n",
        "import tensorflow_hub as hub\n",
        "\n",
        "import matplotlib.pyplot as plt\n",
        "\n",
        "import os\n",
        "import re\n",
        "import numpy as np\n",
        "import pandas as pd\n",
        "\n",
        "from sklearn.metrics.pairwise import cosine_similarity\n",
        "from sklearn.neighbors import NearestNeighbors\n",
        "from sklearn.decomposition import PCA"
      ]
    },
    {
      "cell_type": "code",
      "source": [
        "model_url=\"https://tfhub.dev/google/universal-sentence-encoder/4\"\n",
        "model=hub.load(model_url)\n"
      ],
      "metadata": {
        "id": "UNTWsgckEHJ4"
      },
      "execution_count": null,
      "outputs": []
    },
    {
      "cell_type": "code",
      "source": [
        "def embed(texts):\n",
        "  return model(texts)"
      ],
      "metadata": {
        "id": "B5keCJEQFQtc"
      },
      "execution_count": null,
      "outputs": []
    },
    {
      "cell_type": "code",
      "source": [
        "df=pd.read_csv('/content/linkedin_posts_df.csv', engine='python')\n",
        "df.head()\n"
      ],
      "metadata": {
        "id": "kjHAiUq_FWNe",
        "colab": {
          "base_uri": "https://localhost:8080/",
          "height": 1632
        },
        "outputId": "0024b59c-312b-4750-afc4-45beb82f7ece"
      },
      "execution_count": null,
      "outputs": [
        {
          "output_type": "execute_result",
          "data": {
            "text/plain": [
              "       POST_URN                                           POST_URL  \\\n",
              "0  6.821830e+18  https://www.linkedin.com/posts/mafreeman2_onth...   \n",
              "1  6.821470e+18  https://www.linkedin.com/posts/mafreeman2_data...   \n",
              "2  6.821100e+18  https://www.linkedin.com/posts/mafreeman2_wow-...   \n",
              "3  6.820740e+18  https://www.linkedin.com/posts/mafreeman2_onth...   \n",
              "4  6.820380e+18  https://www.linkedin.com/posts/mafreeman2_onth...   \n",
              "\n",
              "                                               TITLE  \\\n",
              "0  🎁 Feedback is a gift! I want to share an exper...   \n",
              "1  We all make mistakes, even when you are a data...   \n",
              "2  😮 WOW WOW WOW! A paper that I'm a co-author on...   \n",
              "3  👇🏽 Want to stay on top of data science trends ...   \n",
              "4  Made some great progress on my tutorial on how...   \n",
              "\n",
              "                                                TEXT TIME_DELTA DATE_APPROX  \\\n",
              "0  🎁 Feedback is a gift! I want to share an exper...         2d  17-07-2021   \n",
              "1  We all make mistakes, even when you are a data...         3d  16-07-2021   \n",
              "2  😮 WOW WOW WOW! A paper that I'm a co-author on...         4d  15-07-2021   \n",
              "3  👇🏽 Want to stay on top of data science trends ...         5d  14-07-2021   \n",
              "4  Made some great progress on my tutorial on how...         6d  13-07-2021   \n",
              "\n",
              "   LIKES  DIRECT_COMMENTS  COMMENTS    VIEWS  LIKES_LIKE  LIKES_PRAISE  \\\n",
              "0   22.0              2.0       2.0    966.0        19.0           1.0   \n",
              "1   39.0              4.0       4.0   1355.0        33.0           5.0   \n",
              "2  223.0             19.0      35.0  10786.0       163.0          47.0   \n",
              "3   49.0              7.0      20.0   4365.0        44.0           1.0   \n",
              "4   37.0              6.0      16.0   1698.0        33.0           2.0   \n",
              "\n",
              "   LIKES_APPRECIATION  LIKES_EMPATHY  LIKES_MAYBE  LIKES_INTEREST  \n",
              "0                 1.0            1.0          0.0             0.0  \n",
              "1                 1.0            0.0          0.0             0.0  \n",
              "2                 0.0           12.0          1.0             0.0  \n",
              "3                 0.0            3.0          0.0             1.0  \n",
              "4                 0.0            1.0          1.0             0.0  "
            ],
            "text/html": [
              "\n",
              "  <div id=\"df-a99217dc-f269-43b1-a554-c0cf73aa8594\">\n",
              "    <div class=\"colab-df-container\">\n",
              "      <div>\n",
              "<style scoped>\n",
              "    .dataframe tbody tr th:only-of-type {\n",
              "        vertical-align: middle;\n",
              "    }\n",
              "\n",
              "    .dataframe tbody tr th {\n",
              "        vertical-align: top;\n",
              "    }\n",
              "\n",
              "    .dataframe thead th {\n",
              "        text-align: right;\n",
              "    }\n",
              "</style>\n",
              "<table border=\"1\" class=\"dataframe\">\n",
              "  <thead>\n",
              "    <tr style=\"text-align: right;\">\n",
              "      <th></th>\n",
              "      <th>POST_URN</th>\n",
              "      <th>POST_URL</th>\n",
              "      <th>TITLE</th>\n",
              "      <th>TEXT</th>\n",
              "      <th>TIME_DELTA</th>\n",
              "      <th>DATE_APPROX</th>\n",
              "      <th>LIKES</th>\n",
              "      <th>DIRECT_COMMENTS</th>\n",
              "      <th>COMMENTS</th>\n",
              "      <th>VIEWS</th>\n",
              "      <th>LIKES_LIKE</th>\n",
              "      <th>LIKES_PRAISE</th>\n",
              "      <th>LIKES_APPRECIATION</th>\n",
              "      <th>LIKES_EMPATHY</th>\n",
              "      <th>LIKES_MAYBE</th>\n",
              "      <th>LIKES_INTEREST</th>\n",
              "    </tr>\n",
              "  </thead>\n",
              "  <tbody>\n",
              "    <tr>\n",
              "      <th>0</th>\n",
              "      <td>6.821830e+18</td>\n",
              "      <td>https://www.linkedin.com/posts/mafreeman2_onth...</td>\n",
              "      <td>🎁 Feedback is a gift! I want to share an exper...</td>\n",
              "      <td>🎁 Feedback is a gift! I want to share an exper...</td>\n",
              "      <td>2d</td>\n",
              "      <td>17-07-2021</td>\n",
              "      <td>22.0</td>\n",
              "      <td>2.0</td>\n",
              "      <td>2.0</td>\n",
              "      <td>966.0</td>\n",
              "      <td>19.0</td>\n",
              "      <td>1.0</td>\n",
              "      <td>1.0</td>\n",
              "      <td>1.0</td>\n",
              "      <td>0.0</td>\n",
              "      <td>0.0</td>\n",
              "    </tr>\n",
              "    <tr>\n",
              "      <th>1</th>\n",
              "      <td>6.821470e+18</td>\n",
              "      <td>https://www.linkedin.com/posts/mafreeman2_data...</td>\n",
              "      <td>We all make mistakes, even when you are a data...</td>\n",
              "      <td>We all make mistakes, even when you are a data...</td>\n",
              "      <td>3d</td>\n",
              "      <td>16-07-2021</td>\n",
              "      <td>39.0</td>\n",
              "      <td>4.0</td>\n",
              "      <td>4.0</td>\n",
              "      <td>1355.0</td>\n",
              "      <td>33.0</td>\n",
              "      <td>5.0</td>\n",
              "      <td>1.0</td>\n",
              "      <td>0.0</td>\n",
              "      <td>0.0</td>\n",
              "      <td>0.0</td>\n",
              "    </tr>\n",
              "    <tr>\n",
              "      <th>2</th>\n",
              "      <td>6.821100e+18</td>\n",
              "      <td>https://www.linkedin.com/posts/mafreeman2_wow-...</td>\n",
              "      <td>😮 WOW WOW WOW! A paper that I'm a co-author on...</td>\n",
              "      <td>😮 WOW WOW WOW! A paper that I'm a co-author on...</td>\n",
              "      <td>4d</td>\n",
              "      <td>15-07-2021</td>\n",
              "      <td>223.0</td>\n",
              "      <td>19.0</td>\n",
              "      <td>35.0</td>\n",
              "      <td>10786.0</td>\n",
              "      <td>163.0</td>\n",
              "      <td>47.0</td>\n",
              "      <td>0.0</td>\n",
              "      <td>12.0</td>\n",
              "      <td>1.0</td>\n",
              "      <td>0.0</td>\n",
              "    </tr>\n",
              "    <tr>\n",
              "      <th>3</th>\n",
              "      <td>6.820740e+18</td>\n",
              "      <td>https://www.linkedin.com/posts/mafreeman2_onth...</td>\n",
              "      <td>👇🏽 Want to stay on top of data science trends ...</td>\n",
              "      <td>👇🏽 Want to stay on top of data science trends ...</td>\n",
              "      <td>5d</td>\n",
              "      <td>14-07-2021</td>\n",
              "      <td>49.0</td>\n",
              "      <td>7.0</td>\n",
              "      <td>20.0</td>\n",
              "      <td>4365.0</td>\n",
              "      <td>44.0</td>\n",
              "      <td>1.0</td>\n",
              "      <td>0.0</td>\n",
              "      <td>3.0</td>\n",
              "      <td>0.0</td>\n",
              "      <td>1.0</td>\n",
              "    </tr>\n",
              "    <tr>\n",
              "      <th>4</th>\n",
              "      <td>6.820380e+18</td>\n",
              "      <td>https://www.linkedin.com/posts/mafreeman2_onth...</td>\n",
              "      <td>Made some great progress on my tutorial on how...</td>\n",
              "      <td>Made some great progress on my tutorial on how...</td>\n",
              "      <td>6d</td>\n",
              "      <td>13-07-2021</td>\n",
              "      <td>37.0</td>\n",
              "      <td>6.0</td>\n",
              "      <td>16.0</td>\n",
              "      <td>1698.0</td>\n",
              "      <td>33.0</td>\n",
              "      <td>2.0</td>\n",
              "      <td>0.0</td>\n",
              "      <td>1.0</td>\n",
              "      <td>1.0</td>\n",
              "      <td>0.0</td>\n",
              "    </tr>\n",
              "  </tbody>\n",
              "</table>\n",
              "</div>\n",
              "      <button class=\"colab-df-convert\" onclick=\"convertToInteractive('df-a99217dc-f269-43b1-a554-c0cf73aa8594')\"\n",
              "              title=\"Convert this dataframe to an interactive table.\"\n",
              "              style=\"display:none;\">\n",
              "        \n",
              "  <svg xmlns=\"http://www.w3.org/2000/svg\" height=\"24px\"viewBox=\"0 0 24 24\"\n",
              "       width=\"24px\">\n",
              "    <path d=\"M0 0h24v24H0V0z\" fill=\"none\"/>\n",
              "    <path d=\"M18.56 5.44l.94 2.06.94-2.06 2.06-.94-2.06-.94-.94-2.06-.94 2.06-2.06.94zm-11 1L8.5 8.5l.94-2.06 2.06-.94-2.06-.94L8.5 2.5l-.94 2.06-2.06.94zm10 10l.94 2.06.94-2.06 2.06-.94-2.06-.94-.94-2.06-.94 2.06-2.06.94z\"/><path d=\"M17.41 7.96l-1.37-1.37c-.4-.4-.92-.59-1.43-.59-.52 0-1.04.2-1.43.59L10.3 9.45l-7.72 7.72c-.78.78-.78 2.05 0 2.83L4 21.41c.39.39.9.59 1.41.59.51 0 1.02-.2 1.41-.59l7.78-7.78 2.81-2.81c.8-.78.8-2.07 0-2.86zM5.41 20L4 18.59l7.72-7.72 1.47 1.35L5.41 20z\"/>\n",
              "  </svg>\n",
              "      </button>\n",
              "      \n",
              "  <style>\n",
              "    .colab-df-container {\n",
              "      display:flex;\n",
              "      flex-wrap:wrap;\n",
              "      gap: 12px;\n",
              "    }\n",
              "\n",
              "    .colab-df-convert {\n",
              "      background-color: #E8F0FE;\n",
              "      border: none;\n",
              "      border-radius: 50%;\n",
              "      cursor: pointer;\n",
              "      display: none;\n",
              "      fill: #1967D2;\n",
              "      height: 32px;\n",
              "      padding: 0 0 0 0;\n",
              "      width: 32px;\n",
              "    }\n",
              "\n",
              "    .colab-df-convert:hover {\n",
              "      background-color: #E2EBFA;\n",
              "      box-shadow: 0px 1px 2px rgba(60, 64, 67, 0.3), 0px 1px 3px 1px rgba(60, 64, 67, 0.15);\n",
              "      fill: #174EA6;\n",
              "    }\n",
              "\n",
              "    [theme=dark] .colab-df-convert {\n",
              "      background-color: #3B4455;\n",
              "      fill: #D2E3FC;\n",
              "    }\n",
              "\n",
              "    [theme=dark] .colab-df-convert:hover {\n",
              "      background-color: #434B5C;\n",
              "      box-shadow: 0px 1px 3px 1px rgba(0, 0, 0, 0.15);\n",
              "      filter: drop-shadow(0px 1px 2px rgba(0, 0, 0, 0.3));\n",
              "      fill: #FFFFFF;\n",
              "    }\n",
              "  </style>\n",
              "\n",
              "      <script>\n",
              "        const buttonEl =\n",
              "          document.querySelector('#df-a99217dc-f269-43b1-a554-c0cf73aa8594 button.colab-df-convert');\n",
              "        buttonEl.style.display =\n",
              "          google.colab.kernel.accessAllowed ? 'block' : 'none';\n",
              "\n",
              "        async function convertToInteractive(key) {\n",
              "          const element = document.querySelector('#df-a99217dc-f269-43b1-a554-c0cf73aa8594');\n",
              "          const dataTable =\n",
              "            await google.colab.kernel.invokeFunction('convertToInteractive',\n",
              "                                                     [key], {});\n",
              "          if (!dataTable) return;\n",
              "\n",
              "          const docLinkHtml = 'Like what you see? Visit the ' +\n",
              "            '<a target=\"_blank\" href=https://colab.research.google.com/notebooks/data_table.ipynb>data table notebook</a>'\n",
              "            + ' to learn more about interactive tables.';\n",
              "          element.innerHTML = '';\n",
              "          dataTable['output_type'] = 'display_data';\n",
              "          await google.colab.output.renderOutput(dataTable, element);\n",
              "          const docLink = document.createElement('div');\n",
              "          docLink.innerHTML = docLinkHtml;\n",
              "          element.appendChild(docLink);\n",
              "        }\n",
              "      </script>\n",
              "    </div>\n",
              "  </div>\n",
              "  "
            ]
          },
          "metadata": {},
          "execution_count": 43
        }
      ]
    },
    {
      "cell_type": "code",
      "source": [
        "df=df.dropna()\n",
        "df=df.reset_index()\n",
        "df=df[:5500]"
      ],
      "metadata": {
        "id": "Z7bVAUQUFsRZ"
      },
      "execution_count": null,
      "outputs": []
    },
    {
      "cell_type": "code",
      "source": [
        "titles=list(df['TEXT'])"
      ],
      "metadata": {
        "id": "YwhrVv1rFxe5"
      },
      "execution_count": null,
      "outputs": []
    },
    {
      "cell_type": "code",
      "source": [
        "titles[:5]"
      ],
      "metadata": {
        "id": "iCyshE4aGBCl",
        "colab": {
          "base_uri": "https://localhost:8080/"
        },
        "outputId": "e6ad5161-2727-4fad-e918-8256c1a177ce"
      },
      "execution_count": null,
      "outputs": [
        {
          "output_type": "execute_result",
          "data": {
            "text/plain": [
              "['🎁 Feedback is a gift! I want to share an experience that happened yesterday highlighting this....💻 My friend reached out to learn about the data space as he is preparing for a big interview. I spent 30 minutes explaining what\\'s considered \"the modern data stack\", but the most important conversation happened at the end.🧐 I asked, \"Do you have any constructive feedback for me? I want to do more public speaking on the topic of data, and I would love to know what worked and didn\\'t for our conversation.\"🎤 He informed me that the way I emphasize certain words when I speak was extremely helpful in learning a new topic.🤯 MY MIND WAS BLOWN, as it informed me of a strength that 1) I was completely unaware of, and 2) I can further refine.📈 Asking for feedback may make you feel vulnerable at first, but in the long run it will provide you key insights for long term success. Some feedback is amazing (both positive and constructive), and other feedback can be lacking. Regardless, someone going out if their comfort zone to give feedback is a major gift.#OnTheMarkData #feedback #learning #success #growth #data #dataanalytics #datascience #dataengineering #datascientists #dataanalyst #dataengineer #mlengineer #ml #ai #machinelearning',\n",
              " \"We all make mistakes, even when you are a data driven data scientist. Tune in tomorrow where Avery Smith and I describe one of my early ones and my lessons learned-- specifically, how I would have handled it better.We will also talk about my journey into data science and current projects I'm working on.Comment below if there is anything else you would like to hear!(link to the event in the comments)#DataCareerPodcast #OnTheMarkData #career #datascience #machinelearning #datascientist #data #ml #python #ai #artificialintelligence #analytics #dataanalytics #podcast\",\n",
              " \"😮 WOW WOW WOW! A paper that I'm a co-author on was recently cited by another researcher! This may be small, but it's honestly the coolest thing ever to me!👯 In this paper, we used a method called propensity score matching. It's a great tool in observational studies for understanding causal inference and accounting for observed covariates (i.e. things we measured that could potentially cause bias).👇🏽 Want to learn this method yourself? I have a template in my GitHub on how to conduct your own propensity score matching analysis in R (link in comments)!\",\n",
              " '👇🏽 Want to stay on top of data science trends and learn new concepts? Then check out the list of data newsletters I follow below:...🔗 (links broken up to prevent LinkedIn from hiding post)🚰 Data Engineering:- waitingforcode . com (Bartosz Konieczny)- roundup . getdbt . com (Tristan Handy)- theslipbox . substack . com (Charles Landau)👩🏽\\u200d🔬 Data Science:- dataelixir . com (Lon Riesberg)- discover . getrevue . co/newsletters/the-data-science-roundup (Tristan Handy again, but this is only archives of previous newsletter)- datascienceweekly . org (Hannah Brooks and Sebastian Gutierrez)- jack-clark . net (Jack Clark)- interviewquery . com/blog (Jay Fang)- mlinproduction . com/machine-learning-newsletter (Luigi Patruno)- brief . montrealethics . ai (Montreal AI Ethics Institute)💻 Data Product:- ericdataproduct . substack . com (Eric Weber)📈 Industry Trends:- hndigest . com- ycombinator . com/subscribe/👇🏽 Are there any awesome data newsletters not in this list? Comment them below!#OnTheMarkData #datascience #dataanalytics #dataengineering #newsletter #datascientists #dataanalyst #dataengineer #data #ml #ai #machinelearning #mlengineer #machinelearningengineer #python #r #sql',\n",
              " \"Made some great progress on my tutorial on how to use NLP to analyze your own LinkedIn post data. Below is a screenshot of the project summary, and check this post's comments for a sneak peek of some of the code.My learning objectives for those who follow this tutorial are the following:1. Creating an analysis plan for a data science project.2. Using Naas drivers to pull your LinkedIn post data.3. Feature engineering to create meaningful variables.4. Preparing text data for an NLP analysis.5. Conducting a bag-of-words NLP analysis.This will all be on a public GitHub repo, including my own LinkedIn post data if you don't have enough of your own content to analyze! I really hope this will help folks learn about how fun NLP is, as well as help create an awesome project for their portfolios.#OnTheMarkData\\xa0#datascience\\xa0#data\\xa0#dataanalytics\\xa0#machinelearning\\xa0#python\\xa0#nlp\\xa0#analytics\\xa0#ai\\xa0#github\\xa0#linkedin\\xa0#datascientists\\xa0#dataanalyst\\xa0#naturallanguageprocessing\\xa0#ml\\xa0#naas\"]"
            ]
          },
          "metadata": {},
          "execution_count": 46
        }
      ]
    },
    {
      "cell_type": "code",
      "source": [
        "embeddings=embed(titles)\n",
        "print('The embedding shape is: ', embeddings.shape)"
      ],
      "metadata": {
        "id": "izp9FSkdGD-U",
        "colab": {
          "base_uri": "https://localhost:8080/"
        },
        "outputId": "59f04566-1a7a-48ee-aae1-15685a4acdf5"
      },
      "execution_count": null,
      "outputs": [
        {
          "output_type": "stream",
          "name": "stdout",
          "text": [
            "The embedding shape is:  (103, 512)\n"
          ]
        }
      ]
    },
    {
      "cell_type": "code",
      "source": [
        "pca=PCA(n_components=2)\n",
        "emb_2d=pca.fit_transform(embeddings)"
      ],
      "metadata": {
        "id": "u-d7FKN3GR6N"
      },
      "execution_count": null,
      "outputs": []
    },
    {
      "cell_type": "code",
      "source": [
        "plt.figure(figsize=(11, 6))\n",
        "plt.title('Embedding space')\n",
        "plt.scatter(emb_2d[:,0], emb_2d[:,1])\n",
        "plt.show()"
      ],
      "metadata": {
        "id": "TDAO1dEmGcZs",
        "colab": {
          "base_uri": "https://localhost:8080/",
          "height": 390
        },
        "outputId": "55352f28-10ba-4d6f-857f-31d208b6af62"
      },
      "execution_count": null,
      "outputs": [
        {
          "output_type": "display_data",
          "data": {
            "text/plain": [
              "<Figure size 792x432 with 1 Axes>"
            ],
            "image/png": "[encoded data removed]"
          },
          "metadata": {
            "needs_background": "light"
          }
        }
      ]
    },
    {
      "cell_type": "code",
      "source": [
        "nn=NearestNeighbors(n_neighbors=10)\n",
        "nn.fit(embeddings)"
      ],
      "metadata": {
        "id": "MvslQMywHGOI",
        "colab": {
          "base_uri": "https://localhost:8080/",
          "height": 74
        },
        "outputId": "a924ea67-9b25-4d8b-da7f-e4e7b9547a70"
      },
      "execution_count": null,
      "outputs": [
        {
          "output_type": "execute_result",
          "data": {
            "text/plain": [
              "NearestNeighbors(n_neighbors=10)"
            ],
            "text/html": [
              "<style>#sk-container-id-3 {color: black;background-color: white;}#sk-container-id-3 pre{padding: 0;}#sk-container-id-3 div.sk-toggleable {background-color: white;}#sk-container-id-3 label.sk-toggleable__label {cursor: pointer;display: block;width: 100%;margin-bottom: 0;padding: 0.3em;box-sizing: border-box;text-align: center;}#sk-container-id-3 label.sk-toggleable__label-arrow:before {content: \"▸\";float: left;margin-right: 0.25em;color: #696969;}#sk-container-id-3 label.sk-toggleable__label-arrow:hover:before {color: black;}#sk-container-id-3 div.sk-estimator:hover label.sk-toggleable__label-arrow:before {color: black;}#sk-container-id-3 div.sk-toggleable__content {max-height: 0;max-width: 0;overflow: hidden;text-align: left;background-color: #f0f8ff;}#sk-container-id-3 div.sk-toggleable__content pre {margin: 0.2em;color: black;border-radius: 0.25em;background-color: #f0f8ff;}#sk-container-id-3 input.sk-toggleable__control:checked~div.sk-toggleable__content {max-height: 200px;max-width: 100%;overflow: auto;}#sk-container-id-3 input.sk-toggleable__control:checked~label.sk-toggleable__label-arrow:before {content: \"▾\";}#sk-container-id-3 div.sk-estimator input.sk-toggleable__control:checked~label.sk-toggleable__label {background-color: #d4ebff;}#sk-container-id-3 div.sk-label input.sk-toggleable__control:checked~label.sk-toggleable__label {background-color: #d4ebff;}#sk-container-id-3 input.sk-hidden--visually {border: 0;clip: rect(1px 1px 1px 1px);clip: rect(1px, 1px, 1px, 1px);height: 1px;margin: -1px;overflow: hidden;padding: 0;position: absolute;width: 1px;}#sk-container-id-3 div.sk-estimator {font-family: monospace;background-color: #f0f8ff;border: 1px dotted black;border-radius: 0.25em;box-sizing: border-box;margin-bottom: 0.5em;}#sk-container-id-3 div.sk-estimator:hover {background-color: #d4ebff;}#sk-container-id-3 div.sk-parallel-item::after {content: \"\";width: 100%;border-bottom: 1px solid gray;flex-grow: 1;}#sk-container-id-3 div.sk-label:hover label.sk-toggleable__label {background-color: #d4ebff;}#sk-container-id-3 div.sk-serial::before {content: \"\";position: absolute;border-left: 1px solid gray;box-sizing: border-box;top: 0;bottom: 0;left: 50%;z-index: 0;}#sk-container-id-3 div.sk-serial {display: flex;flex-direction: column;align-items: center;background-color: white;padding-right: 0.2em;padding-left: 0.2em;position: relative;}#sk-container-id-3 div.sk-item {position: relative;z-index: 1;}#sk-container-id-3 div.sk-parallel {display: flex;align-items: stretch;justify-content: center;background-color: white;position: relative;}#sk-container-id-3 div.sk-item::before, #sk-container-id-3 div.sk-parallel-item::before {content: \"\";position: absolute;border-left: 1px solid gray;box-sizing: border-box;top: 0;bottom: 0;left: 50%;z-index: -1;}#sk-container-id-3 div.sk-parallel-item {display: flex;flex-direction: column;z-index: 1;position: relative;background-color: white;}#sk-container-id-3 div.sk-parallel-item:first-child::after {align-self: flex-end;width: 50%;}#sk-container-id-3 div.sk-parallel-item:last-child::after {align-self: flex-start;width: 50%;}#sk-container-id-3 div.sk-parallel-item:only-child::after {width: 0;}#sk-container-id-3 div.sk-dashed-wrapped {border: 1px dashed gray;margin: 0 0.4em 0.5em 0.4em;box-sizing: border-box;padding-bottom: 0.4em;background-color: white;}#sk-container-id-3 div.sk-label label {font-family: monospace;font-weight: bold;display: inline-block;line-height: 1.2em;}#sk-container-id-3 div.sk-label-container {text-align: center;}#sk-container-id-3 div.sk-container {/* jupyter's `normalize.less` sets `[hidden] { display: none; }` but bootstrap.min.css set `[hidden] { display: none !important; }` so we also need the `!important` here to be able to override the default hidden behavior on the sphinx rendered scikit-learn.org. See: https://github.com/scikit-learn/scikit-learn/issues/21755 */display: inline-block !important;position: relative;}#sk-container-id-3 div.sk-text-repr-fallback {display: none;}</style><div id=\"sk-container-id-3\" class=\"sk-top-container\"><div class=\"sk-text-repr-fallback\"><pre>NearestNeighbors(n_neighbors=10)</pre><b>In a Jupyter environment, please rerun this cell to show the HTML representation or trust the notebook. <br />On GitHub, the HTML representation is unable to render, please try loading this page with nbviewer.org.</b></div><div class=\"sk-container\" hidden><div class=\"sk-item\"><div class=\"sk-estimator sk-toggleable\"><input class=\"sk-toggleable__control sk-hidden--visually\" id=\"sk-estimator-id-3\" type=\"checkbox\" checked><label for=\"sk-estimator-id-3\" class=\"sk-toggleable__label sk-toggleable__label-arrow\">NearestNeighbors</label><div class=\"sk-toggleable__content\"><pre>NearestNeighbors(n_neighbors=10)</pre></div></div></div></div></div>"
            ]
          },
          "metadata": {},
          "execution_count": 50
        }
      ]
    },
    {
      "cell_type": "code",
      "source": [
        "NearestNeighbors(n_neighbors=10)"
      ],
      "metadata": {
        "id": "Z2Isjsn2HL5A",
        "colab": {
          "base_uri": "https://localhost:8080/",
          "height": 74
        },
        "outputId": "d9db0d09-4e68-4321-a21d-0fe537335318"
      },
      "execution_count": null,
      "outputs": [
        {
          "output_type": "execute_result",
          "data": {
            "text/plain": [
              "NearestNeighbors(n_neighbors=10)"
            ],
            "text/html": [
              "<style>#sk-container-id-4 {color: black;background-color: white;}#sk-container-id-4 pre{padding: 0;}#sk-container-id-4 div.sk-toggleable {background-color: white;}#sk-container-id-4 label.sk-toggleable__label {cursor: pointer;display: block;width: 100%;margin-bottom: 0;padding: 0.3em;box-sizing: border-box;text-align: center;}#sk-container-id-4 label.sk-toggleable__label-arrow:before {content: \"▸\";float: left;margin-right: 0.25em;color: #696969;}#sk-container-id-4 label.sk-toggleable__label-arrow:hover:before {color: black;}#sk-container-id-4 div.sk-estimator:hover label.sk-toggleable__label-arrow:before {color: black;}#sk-container-id-4 div.sk-toggleable__content {max-height: 0;max-width: 0;overflow: hidden;text-align: left;background-color: #f0f8ff;}#sk-container-id-4 div.sk-toggleable__content pre {margin: 0.2em;color: black;border-radius: 0.25em;background-color: #f0f8ff;}#sk-container-id-4 input.sk-toggleable__control:checked~div.sk-toggleable__content {max-height: 200px;max-width: 100%;overflow: auto;}#sk-container-id-4 input.sk-toggleable__control:checked~label.sk-toggleable__label-arrow:before {content: \"▾\";}#sk-container-id-4 div.sk-estimator input.sk-toggleable__control:checked~label.sk-toggleable__label {background-color: #d4ebff;}#sk-container-id-4 div.sk-label input.sk-toggleable__control:checked~label.sk-toggleable__label {background-color: #d4ebff;}#sk-container-id-4 input.sk-hidden--visually {border: 0;clip: rect(1px 1px 1px 1px);clip: rect(1px, 1px, 1px, 1px);height: 1px;margin: -1px;overflow: hidden;padding: 0;position: absolute;width: 1px;}#sk-container-id-4 div.sk-estimator {font-family: monospace;background-color: #f0f8ff;border: 1px dotted black;border-radius: 0.25em;box-sizing: border-box;margin-bottom: 0.5em;}#sk-container-id-4 div.sk-estimator:hover {background-color: #d4ebff;}#sk-container-id-4 div.sk-parallel-item::after {content: \"\";width: 100%;border-bottom: 1px solid gray;flex-grow: 1;}#sk-container-id-4 div.sk-label:hover label.sk-toggleable__label {background-color: #d4ebff;}#sk-container-id-4 div.sk-serial::before {content: \"\";position: absolute;border-left: 1px solid gray;box-sizing: border-box;top: 0;bottom: 0;left: 50%;z-index: 0;}#sk-container-id-4 div.sk-serial {display: flex;flex-direction: column;align-items: center;background-color: white;padding-right: 0.2em;padding-left: 0.2em;position: relative;}#sk-container-id-4 div.sk-item {position: relative;z-index: 1;}#sk-container-id-4 div.sk-parallel {display: flex;align-items: stretch;justify-content: center;background-color: white;position: relative;}#sk-container-id-4 div.sk-item::before, #sk-container-id-4 div.sk-parallel-item::before {content: \"\";position: absolute;border-left: 1px solid gray;box-sizing: border-box;top: 0;bottom: 0;left: 50%;z-index: -1;}#sk-container-id-4 div.sk-parallel-item {display: flex;flex-direction: column;z-index: 1;position: relative;background-color: white;}#sk-container-id-4 div.sk-parallel-item:first-child::after {align-self: flex-end;width: 50%;}#sk-container-id-4 div.sk-parallel-item:last-child::after {align-self: flex-start;width: 50%;}#sk-container-id-4 div.sk-parallel-item:only-child::after {width: 0;}#sk-container-id-4 div.sk-dashed-wrapped {border: 1px dashed gray;margin: 0 0.4em 0.5em 0.4em;box-sizing: border-box;padding-bottom: 0.4em;background-color: white;}#sk-container-id-4 div.sk-label label {font-family: monospace;font-weight: bold;display: inline-block;line-height: 1.2em;}#sk-container-id-4 div.sk-label-container {text-align: center;}#sk-container-id-4 div.sk-container {/* jupyter's `normalize.less` sets `[hidden] { display: none; }` but bootstrap.min.css set `[hidden] { display: none !important; }` so we also need the `!important` here to be able to override the default hidden behavior on the sphinx rendered scikit-learn.org. See: https://github.com/scikit-learn/scikit-learn/issues/21755 */display: inline-block !important;position: relative;}#sk-container-id-4 div.sk-text-repr-fallback {display: none;}</style><div id=\"sk-container-id-4\" class=\"sk-top-container\"><div class=\"sk-text-repr-fallback\"><pre>NearestNeighbors(n_neighbors=10)</pre><b>In a Jupyter environment, please rerun this cell to show the HTML representation or trust the notebook. <br />On GitHub, the HTML representation is unable to render, please try loading this page with nbviewer.org.</b></div><div class=\"sk-container\" hidden><div class=\"sk-item\"><div class=\"sk-estimator sk-toggleable\"><input class=\"sk-toggleable__control sk-hidden--visually\" id=\"sk-estimator-id-4\" type=\"checkbox\" checked><label for=\"sk-estimator-id-4\" class=\"sk-toggleable__label sk-toggleable__label-arrow\">NearestNeighbors</label><div class=\"sk-toggleable__content\"><pre>NearestNeighbors(n_neighbors=10)</pre></div></div></div></div></div>"
            ]
          },
          "metadata": {},
          "execution_count": 51
        }
      ]
    },
    {
      "cell_type": "code",
      "source": [
        "def recommend(text):\n",
        "  emb=embed([text])\n",
        "  neighbors=nn.kneighbors(emb, return_distance=False)[0]\n",
        "  return df['TEXT'].iloc[neighbors].tolist()"
      ],
      "metadata": {
        "id": "ARGpWYKqHRHd"
      },
      "execution_count": null,
      "outputs": []
    },
    {
      "cell_type": "code",
      "source": [
        "print('Recommended Posts: ')\n",
        "recommend('Inspiration')"
      ],
      "metadata": {
        "id": "1WqfQNlPHodg",
        "colab": {
          "base_uri": "https://localhost:8080/"
        },
        "outputId": "fe8d325e-8e88-4863-9a65-73ebc0b24ff3"
      },
      "execution_count": null,
      "outputs": [
        {
          "output_type": "stream",
          "name": "stdout",
          "text": [
            "Recommended Posts: \n"
          ]
        },
        {
          "output_type": "execute_result",
          "data": {
            "text/plain": [
              "['I\\'m so proud of my recent accomplishment! I WAS ABLE TO SET BOUNDARIES WITH MYSELF AND KEEP THEM!Though my job has been going amazing, life outside of work has been hitting my wife and I HARD and repeatedly since the beginning of this year. I bet many can relate given the pandemic.My old self would just try to \"out work\" the situation and try to take on everything...... and eventually burn out hard.This time I took a step back and asked myself \"what do I value, and what can I realistically handle to ensure I maintain what I value?\"The hardest part was the \"realistic\" component, as I\\'m passionate about so many things and give my all to them. But eventually I prioritized and cut out a lot from my life.The result... handling life\\'s challenges became easier and quicker to resolve. I\\'m able to focus more on what I care about and I\\'m a lot better at saying \"no\" or \"not right now.\"Though there are a few things I really want to bring back into my life (e.g. community health volunteering), I feel much more capable now of being able to tell when I can realistically do so.#DataHustle #priorities #values #life #pandemiclife  #accomplishments #goal #achievement #boundaries #selfcare',\n",
              " 'Yesterday was rough...My wife had a pretty severe reaction to medication-- thankfully she is okay now, but we were both pretty shaken afterwards.Through this experience I discovered something powerful though... I\\'m finally okay with not being okay.My old self would try coping through the stress by \"outworking\" my situation. I would work extra late to make up for the \"lost\" productivity or skip all breaks to make up \"lost\" time. Looking back, my old self was most likely just keeping busy rather than being productive.Yesterday, I accepted that I just wasn\\'t going to be the most productive. Yesterday, I finally had the courage to tell myself to go relax and decompress at the end of the day. The pull to work was strong, but yesterday I persevered!This is such huge progress for me, as I wouldn\\'t even consider relaxing an option a year ago.#OnTheMarkData #growth #datascience #dataanalytics #copingwithstress #stress #stressmanagement #worklifebalance #productivity #mindfullness #reflection',\n",
              " '🙌🏽 It\\'s #WednesdayWork, a post series to give a glimpse of working as a data scientist, and today we are talking about BIG IDEAS with my manager Stefanie Tignor!💡 Once a month, my manager holds a \"BIG IDEAS MEETING\" to discuss the big picture of the data team\\'s work. In our last meeting, I asked how she has been able to get buy-in on so many ideas that ultimately turn into features within our product.👇🏽 Below are the two skills she said are key to her success:🎯 1. She is constantly talking to colleagues outside of her team (e.g. Sales, UX, Design, etc.) to learn about their pain points and hear moments where they say \"I wish I had XYZ...\" More importantly, she informed us that many of the ideas are not hers, but rather she curates conversations to find patterns and suggestions to act on.🎬 2. She has a bias towards action! Many individuals have ideas, but very few actually act on the ideas to get momentum behind them. Specifically, when she identifies an idea she aims to build a proof of concept in ~2 weeks and then get feedback. This is the key action she takes to go from idea to a whole team building a new product feature!#OnTheMarkData #WednesdayWisdom #product #ml #startups #dataanalysis, #datascientists #dataengineering #data #ai #datascience #dataanalytics',\n",
              " \"I had a really cool experience yesterday that highlighted how awesome it is being in a company that values your uniqueness.I recently shared in our #random Slack channel that I'm interested in diving into mechanical keyboards as a hobby. Not only did others share their builds and advice, a previous employee created an extensive Google Doc on the subject to get you started! 8 pages with headers and links extensive! In addition, another colleague is organizing a virtual craft hour today, where I will be diving into planning my own keyboard build.Working at Humu has definitely shown me how important culture is, and how you can simultaneously have fun while driving value!#DataHustle #culture #fun\",\n",
              " 'Having your goals attached to proving someone wrong is ultimately a losing game.It was 2013, and I failed most of my classes the semester before I was supposed to transfer. Thus, I decided to call the university to see my options.This phone call resulted in me being berated for fifteen minutes straight by two admissions officers. They questioned my intelligence, work ethic, and capabilities as a person. The words that cut the deepest though were \"We don\\'t think you are fit to be a doctor.\"From that point on I decided that I was going to become a doctor to prove them wrong. Unfortunately, this set me on a path filled with unneeded stress and heartache.Most of my academic career was centered around proving two people wrong, rather than pursuing my passions. Every pursuit wasn\\'t good enough and every failure was blown out of proportion.It wasn\\'t until I was a student at Stanford Med where I realized I lost my passion of becoming a doctor years ago-- I was just trying to prove them wrong. All the pain I put myself through was unnecessary and it distracted me from identifying my true purpose.Now, I never let others define my capabilities or aptitude for success. My goals and happiness are my own!#OnTheMarkData #MotivationMonday #data #datascience #dataanalytics #career',\n",
              " 'I came very close to dropping out of Stanford in 2018. That year I had a mental breakdown, and was ultimately diagnosed with having OCD. For me, my symptoms typically look like mentally checking EVERYTHING or going on 48 hour work binges to get things \"perfect\". The habits I thought got me into Stanford, were actually the ones destroying my life.This event was a blessing in disguise, as it finally put me on a path to address the habits that brought me so much suffering. Today, I\\'m in a much better place due to all the work I put into therapy, my amazing wife, and my supportive family and friends.Even with the past few weeks being rough for me, my worst days today are 100x better than my best days in 2018. Here are three lessons that helped get me there:1) Know what your 100% capacity is (e.g. sum of work, hanging out, etc.) and bring yourself down to 75%. This gives me a buffer when things are rough to prevent burnout.2) Embrace discomfort and face your fears! Mental health challenges often makes discomfort extreme, but getting comfortable with being uncomfortable has helped silence the OCD voice.3) Treat self compassion as a lifestyle. Actively reframing thoughts within a self compassion lense dramatically reduced the burden of mental health.#DataHustle #MentalHealth',\n",
              " 'I was completely moved by Sha\\'Carri Richardson not only securing a spot for the American Olympic track team, but also by her comments on her support system. In her words:\"My family has kept me grounded. This year has been crazy for me, from just last week losing my biological mother, and I\\'m still here... still choosing to pursue my dreams, still coming out here, still making sure to make the family I do still have on this earth proud.And the fact that nobody knows what I go through. Everybody has struggles and I understand that, but y\\'all see me on this track and y\\'all see the poker face I put on, but nobody but them and my coach know what I go through on a day-to-day basis, and I\\'m highly grateful for them.Without them, there would be no me. Without my grandmother, there would be no Sha\\'Carri Richardson. So my family is my everything, my everything until the day I\\'m done.\"Though I\\'m nowhere close to being an Olympian, her words resonated deeply with me. I greatly attribute graduating from Stanford, becoming a data scientist, and overcoming my chronic mental health conditions to my strong support system. My wife, family, and close friends are the reason I\\'m still here today and why I\\'m able to pursue my dreams.#OnTheMarkData #ThursdayThoughts',\n",
              " \"🏃🏽 The road to becoming and data professional, and more importantly staying one, is a marathon, not a sprint. Here are 3 tips to stay the course:📈 1. Stop chasing titles, and instead focus on identifying how you can drive value with data. Your ability to drive value will later provide you leverage to get the title and terms you desire.💻 2. Don't focus solely on the end goal, rather focus on the habits that will help you reach your goal. Three years ago I wanted to be a data scientist, instead of focusing on that goal I instead pursued the habit of coding at least 10 hours a week on data-related projects.😴 3. Learn how to relax and identify when you need a break. This is honestly the most important, and the one I struggle with the most. It's really hard to enjoy a career if you become burned out.👇🏽 What have you done that's been helpful? Comment below!#OnTheMarkData #MondayMotivation #goals #marathon #ml #startups #dataanalysis, #datascientists #dataengineering #data #ai #datascience #dataanalytics #machinelearning #r #python #sql\",\n",
              " '🎉 My tutorial on how to set up a Python environment on Mac is now live on my GitHub! (link in comments)🎉I went through the tutorial on a new Mac profile and it was successful! Please feel free to add any feedback or suggestions to improve!#DataHustle\\xa0#datascience\\xa0#python\\xa0#r\\xa0#data\\xa0#machinelearning\\xa0#statistics\\xa0#ai\\xa0#ml\\xa0#analytics\\xa0#dataanalytics #tutorial #github #zsh #terminal #vscode #datascientist',\n",
              " \"🤳🏽Just wanted to share my current social media strategy to just exchange ideas with my network!🛠 My three main tools are Buffer, Canva, and Google Sheets.📝 Weekends I create all of my Monday through Friday content following my daily hashtag themes (e.g. MondayMotivation and WednesdayWork). I make sure to try to add a screenshot, video, or create a quote image via Canva (i.e. drag and drop illustrator) for every post.⏰ I then put my weekly content in Buffer to schedule my posts for the week and have them automatically send.👉🏽 Currently I send at 9AM PST. The goal is to reach the west coast right before work and the east coast during lunch break. I then spend 15min on my lunch break to respond to any comments to drive further engagement. I then spend another 15min after I get off work to engage with my network that's active after hours or respond to messages.🎙 On Friday evenings I comment a whole bunch on others' posts to engage new audiences and have full conversations in my messages. This is extremely useful as it inspires a lot of my own content.📋 Finally, after a post becomes inactive (~1 week) I collect relevant data (e.g. likes, views, comment count) per post in a Google Sheet for analysis later.🤓 Why go through all this effort? The work I do on LinkedIn is returned 10x from all the amazing conversations I have with others. It exposes me to different points of view and best practices that I bring into my current job. Also, I absolutely love talking about data so it's always a good time for me!#OnTheMarkData #datascience #data #datascientists #dataanalyst #dataanalytics #socialmedia #strategy #linkedin #content\"]"
            ]
          },
          "metadata": {},
          "execution_count": 56
        }
      ]
    }
  ]
}